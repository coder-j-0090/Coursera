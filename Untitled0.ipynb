{
  "nbformat": 4,
  "nbformat_minor": 0,
  "metadata": {
    "colab": {
      "provenance": [],
      "authorship_tag": "ABX9TyPp6YTQuTqTYjJT++KcFsyZ",
      "include_colab_link": true
    },
    "kernelspec": {
      "name": "python3",
      "display_name": "Python 3"
    },
    "language_info": {
      "name": "python"
    }
  },
  "cells": [
    {
      "cell_type": "markdown",
      "metadata": {
        "id": "view-in-github",
        "colab_type": "text"
      },
      "source": [
        "<a href=\"https://colab.research.google.com/github/coder-j-0090/Coursera/blob/main/Untitled0.ipynb\" target=\"_parent\"><img src=\"https://colab.research.google.com/assets/colab-badge.svg\" alt=\"Open In Colab\"/></a>"
      ]
    },
    {
      "cell_type": "markdown",
      "source": [
        "## Data Science Project"
      ],
      "metadata": {
        "id": "wDMtrrsvZsyX"
      }
    },
    {
      "cell_type": "markdown",
      "source": [
        "This is my data science project for coursera assignment!"
      ],
      "metadata": {
        "id": "awGpkzPYaLX-"
      }
    },
    {
      "cell_type": "markdown",
      "source": [
        "### Data Science\n",
        "1. Python\n",
        "2. R\n",
        "3. SQL"
      ],
      "metadata": {
        "id": "_Ytglx3YdWkI"
      }
    },
    {
      "cell_type": "markdown",
      "source": [
        "### Data Science Libraries\n",
        "1. Pandas\n",
        "2. Numpy\n",
        "3. Matplotlib\n",
        "4. Seaborn"
      ],
      "metadata": {
        "id": "6dIljJ0ehOp7"
      }
    },
    {
      "cell_type": "markdown",
      "source": [
        "### Data Science Tools\n",
        "####Tools - Purpose\n",
        "1. Jupyter Notebook - Interactive development\n",
        "2. VS Code - Code Editor\n",
        "3. Git - Version Control"
      ],
      "metadata": {
        "id": "4bHc4oOAjY8P"
      }
    },
    {
      "cell_type": "markdown",
      "source": [
        "### Arithmetic Expression Examples\n",
        "\n",
        "\n",
        "*   +(Addition)\n",
        "*   -(Subtraction)\n",
        "*   *(Multiplication)\n",
        "*   /(Division in decimals)\n",
        "*   //(Division with only quotient)\n",
        "\n",
        "\n",
        "\n",
        "\n",
        "\n"
      ],
      "metadata": {
        "id": "urLSr6fTkic-"
      }
    },
    {
      "cell_type": "code",
      "source": [
        "a = 10\n",
        "b = 5\n",
        "result_add = a+b\n",
        "result_mul = a*b\n",
        "print(\"Sum of a and b is\",result_add)\n",
        "print(\"Multiplication of a and b is\",result_mul)"
      ],
      "metadata": {
        "colab": {
          "base_uri": "https://localhost:8080/"
        },
        "id": "nQ_NSniulMRT",
        "outputId": "92bbf8b0-b8c6-43e5-e8c3-085d4983964e"
      },
      "execution_count": 3,
      "outputs": [
        {
          "output_type": "stream",
          "name": "stdout",
          "text": [
            "Sum of a and b is 15\n",
            "Multiplication of a and b is 50\n"
          ]
        }
      ]
    },
    {
      "cell_type": "code",
      "source": [
        "minutes = int(input(\"Enter time: \"))\n",
        "hours = minutes // 60\n",
        "min = minutes%60\n",
        "print(minutes, \"minutes equals to\", hours, \"hrs and\", min, \"mins.\")"
      ],
      "metadata": {
        "colab": {
          "base_uri": "https://localhost:8080/"
        },
        "id": "AuLyiq1wmz0V",
        "outputId": "65f6bed0-7fa7-4958-c535-7ff7caa5ebb1"
      },
      "execution_count": 9,
      "outputs": [
        {
          "output_type": "stream",
          "name": "stdout",
          "text": [
            "Enter time: 123\n",
            "123 minutes equals to 2 hrs and 3 mins.\n"
          ]
        }
      ]
    },
    {
      "cell_type": "markdown",
      "source": [
        "### Insert a markdown cell to list Objectives\n",
        "1. Explore data science languages.\n",
        "2. Understand key data science libraries.\n",
        "3. Practice basic arithmetic operations"
      ],
      "metadata": {
        "id": "BxXV3rgeoNzC"
      }
    },
    {
      "cell_type": "markdown",
      "source": [
        "## **Author's name** : Junyoung Kim"
      ],
      "metadata": {
        "id": "Xwws4j6UoZWG"
      }
    },
    {
      "cell_type": "markdown",
      "source": [],
      "metadata": {
        "id": "VaGNZY1Kov7w"
      }
    }
  ]
}