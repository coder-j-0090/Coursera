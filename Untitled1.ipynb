{
  "cells": [
    {
      "cell_type": "markdown",
      "metadata": {},
      "source": [
        "# Data Science Tools"
      ]
    },
    {
      "cell_type": "markdown",
      "metadata": {},
      "source": [
        "In this notebook, data science tools and ecosystem are summarized."
      ]
    },
    {
      "cell_type": "markdown",
      "metadata": {},
      "source": [
        "## Some of the markdwon cell created to list \n",
        "\n",
        "1. Python\n",
        "2. R\n",
        "3. SQL\n",
        "4. Scala\n",
        "5. Java\n",
        "6. Julia\n",
        "7. C++\n",
        "8. Ruby"
      ]
    },
    {
      "cell_type": "markdown",
      "metadata": {},
      "source": [
        "# Data Science Libraries\n",
        "1. Pandas\n",
        "2. Numpy\n",
        "3. Matplotlib\n",
        "4. Seaborn\n",
        "5. Scikit-learn\n",
        "6. PyTorch\n",
        "7. Tensorflow"
      ]
    },
    {
      "cell_type": "markdown",
      "metadata": {},
      "source": [
        "## Data Science Tools\n",
        "\n",
        "1. Anaconda\n",
        "2. Jupyter Notebooks\n",
        "3. R Studio\n",
        "4. Spyder\n",
        "5. Zeppelin\n"
      ]
    },
    {
      "cell_type": "markdown",
      "metadata": {},
      "source": [
        "## Below are a few examples of evaluating arithmetic expressions in Python\n",
        "\n",
        "\n",
        "1. Basic Arithmetic/Mixed Operation:\n",
        "   5+3=8\n",
        "   9-2=7\n",
        "   3*4=12\n",
        "   6/2=3\n",
        "2. Exponents:\n",
        "   2**3=8\n",
        "3. Modulo(Remainder):\n",
        "   5%2=1\n",
        "4. Parentheses for Grouping:\n",
        "   (4+3)*5=35\n",
        "   "
      ]
    },
    {
      "cell_type": "code",
      "execution_count": 2,
      "metadata": {
        "trusted": true
      },
      "outputs": [
        {
          "data": {
            "text/plain": [
              "17"
            ]
          },
          "execution_count": 2,
          "metadata": {},
          "output_type": "execute_result"
        }
      ],
      "source": [
        "#This is a sample arithmetic expression to multiply and addition\n",
        "(3*4)+5"
      ]
    },
    {
      "cell_type": "code",
      "execution_count": 3,
      "metadata": {
        "trusted": true
      },
      "outputs": [
        {
          "data": {
            "text/plain": [
              "3"
            ]
          },
          "execution_count": 3,
          "metadata": {},
          "output_type": "execute_result"
        }
      ],
      "source": [
        "#This will convert 200 minutes to hours by dividing by 60\n",
        "200//60"
      ]
    },
    {
      "cell_type": "markdown",
      "metadata": {},
      "source": [
        "## Objectives(Insert a markdown cell to list Objectives): \n",
        "- Add comments to code cells\n",
        "- Create markdown cells\n",
        "- Add ordered and unordered lists to markdown cells\n",
        "- Format content of markdown cells with heading styles"
      ]
    },
    {
      "cell_type": "markdown",
      "metadata": {},
      "source": [
        "## Author(s)\n",
        "Junyoung Kim"
      ]
    }
  ],
  "metadata": {
    "kernelspec": {
      "display_name": "Python (Pyodide)",
      "language": "python",
      "name": "python"
    },
    "language_info": {
      "codemirror_mode": {
        "name": "python",
        "version": 3
      },
      "file_extension": ".py",
      "mimetype": "text/x-python",
      "name": "python",
      "nbconvert_exporter": "python",
      "pygments_lexer": "ipython3",
      "version": "3.8"
    }
  },
  "nbformat": 4,
  "nbformat_minor": 4
}
